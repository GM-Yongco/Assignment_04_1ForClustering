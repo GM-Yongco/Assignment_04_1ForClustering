{
 "cells": [
  {
   "cell_type": "markdown",
   "id": "6aba3a03",
   "metadata": {},
   "source": [
    "FUCK U SIMONE"
   ]
  },
  {
   "cell_type": "markdown",
   "id": "c8d7d4bf",
   "metadata": {},
   "source": [
    "WITH LOVE - \n",
    "PLATONICALLY"
   ]
  }
 ],
 "metadata": {
  "kernelspec": {
   "display_name": "Python 3",
   "language": "python",
   "name": "python3"
  },
  "language_info": {
   "codemirror_mode": {
    "name": "ipython",
    "version": 3
   },
   "file_extension": ".py",
   "mimetype": "text/x-python",
   "name": "python",
   "nbconvert_exporter": "python",
   "pygments_lexer": "ipython3",
   "version": "3.11.2"
  }
 },
 "nbformat": 4,
 "nbformat_minor": 5
}
